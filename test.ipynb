{
 "cells": [
  {
   "cell_type": "code",
   "execution_count": 5,
   "id": "6b700807",
   "metadata": {},
   "outputs": [
    {
     "name": "stdout",
     "output_type": "stream",
     "text": [
      "[0 0]\n",
      "[[4165894930  804218099]\n",
      " [1353695780 2116000888]]\n"
     ]
    },
    {
     "data": {
      "text/plain": [
       "Array([-1.3109838, -0.1612584], dtype=float32)"
      ]
     },
     "execution_count": 5,
     "metadata": {},
     "output_type": "execute_result"
    }
   ],
   "source": [
    "import jax\n",
    "\n",
    "from jaxutil.util import RNG\n",
    "\n",
    "rng = RNG(seed=0)\n",
    "print(rng.key)\n",
    "print(rng.fork(2).key)\n",
    "jax.vmap(lambda rng: rng.normal())(rng.fork(2))"
   ]
  },
  {
   "cell_type": "code",
   "execution_count": 12,
   "id": "d2919c4e",
   "metadata": {},
   "outputs": [
    {
     "data": {
      "text/plain": [
       "Array([[4165894930,  804218099],\n",
       "       [1353695780, 2116000888]], dtype=uint32)"
      ]
     },
     "execution_count": 12,
     "metadata": {},
     "output_type": "execute_result"
    }
   ],
   "source": [
    "rng = RNG(seed=0)\n",
    "rng(2)"
   ]
  },
  {
   "cell_type": "code",
   "execution_count": 7,
   "id": "d5c22795",
   "metadata": {},
   "outputs": [
    {
     "data": {
      "text/plain": [
       "(Array(-0.57478017, dtype=float32), Array(-1.2574776, dtype=float32))"
      ]
     },
     "execution_count": 7,
     "metadata": {},
     "output_type": "execute_result"
    }
   ],
   "source": [
    "from jax import random as jr\n",
    "\n",
    "k = jr.PRNGKey(0)\n",
    "kk, _ = jr.split(k)\n",
    "k1, k2 = jr.split(kk)\n",
    "jr.normal(k1), jr.normal(k2)"
   ]
  },
  {
   "cell_type": "code",
   "execution_count": 9,
   "id": "15b01ae1",
   "metadata": {},
   "outputs": [
    {
     "name": "stdout",
     "output_type": "stream",
     "text": [
      "[1797259609 2579123966]\n"
     ]
    }
   ],
   "source": [
    "print(kk)"
   ]
  },
  {
   "cell_type": "code",
   "execution_count": null,
   "id": "2b6b3157",
   "metadata": {},
   "outputs": [],
   "source": []
  }
 ],
 "metadata": {
  "kernelspec": {
   "display_name": "jax",
   "language": "python",
   "name": "python3"
  },
  "language_info": {
   "codemirror_mode": {
    "name": "ipython",
    "version": 3
   },
   "file_extension": ".py",
   "mimetype": "text/x-python",
   "name": "python",
   "nbconvert_exporter": "python",
   "pygments_lexer": "ipython3",
   "version": "3.11.13"
  }
 },
 "nbformat": 4,
 "nbformat_minor": 5
}
